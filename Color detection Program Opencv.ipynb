{
 "cells": [
  {
   "cell_type": "code",
   "execution_count": 7,
   "metadata": {},
   "outputs": [],
   "source": [
    "import numpy as np\n",
    "import cv2"
   ]
  },
  {
   "cell_type": "code",
   "execution_count": 8,
   "metadata": {},
   "outputs": [],
   "source": [
    "import numpy as np\n",
    "vid = cv2.VideoCapture(0)\n",
    "while(1 ) :\n",
    "    _,frame= vid.read()\n",
    "    frame = cv2.flip(frame,1)\n",
    "    hsv = cv2.cvtColor(frame, cv2.COLOR_BGR2HSV)\n",
    "    red_L =np.array([0,0,0],'uint8')\n",
    "    red_U = np.array([0,0,0],'uint8')\n",
    "    redM = cv2.inRange(hsv,red_L,red_U)\n",
    "    kernel = np.ones((5,5),'uint8')\n",
    "    redM = cv2.dilate(redM,kernel)\n",
    "    conts,_ = cv2.findContours(redM,cv2.RETR_TREE,cv2.CHAIN_APPROX_SIMPLE)\n",
    "    for cont in conts :\n",
    "        area = cv2.contourArea(cont)\n",
    "        if(area>100) :\n",
    "            x,y,w,h =cv2.boundingRect(cont)\n",
    "            cv2.rectangle(frame,(x,y),(x+w,y+h),(0,0,255),3)\n",
    "            \n",
    "    cv2.imshow(\"win1\",frame)\n",
    "    if cv2.waitKey(1)==ord('q'):\n",
    "        break;\n",
    "        \n",
    "cv2.destroyAllWindows()"
   ]
  },
  {
   "cell_type": "code",
   "execution_count": null,
   "metadata": {},
   "outputs": [],
   "source": []
  }
 ],
 "metadata": {
  "kernelspec": {
   "display_name": "Python 3.10.7 64-bit",
   "language": "python",
   "name": "python3"
  },
  "language_info": {
   "codemirror_mode": {
    "name": "ipython",
    "version": 3
   },
   "file_extension": ".py",
   "mimetype": "text/x-python",
   "name": "python",
   "nbconvert_exporter": "python",
   "pygments_lexer": "ipython3",
   "version": "3.10.7"
  },
  "orig_nbformat": 4,
  "vscode": {
   "interpreter": {
    "hash": "76d7c06053c3456e5600312cec90888656fc0ed30c03d8425b9dac6e4fc8e014"
   }
  }
 },
 "nbformat": 4,
 "nbformat_minor": 2
}
