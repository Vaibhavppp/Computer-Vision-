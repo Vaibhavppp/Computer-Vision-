{
 "cells": [
  {
   "cell_type": "code",
   "execution_count": null,
   "metadata": {},
   "outputs": [],
   "source": [
    "cap = cv2.VideoCapture(0)\n",
    "mp_hands= mp.solutions.hands\n",
    "with mp_hands.Hands(min_detection_confidence=0.2,min_tracking_confidence=0.2) as hands:\n",
    "    while cap.isOpened():\n",
    "        success,frame= cap.read()\n",
    "        if not success :\n",
    "            continue\n",
    "        frame=cv2.flip(frame,1);\n",
    "        frame =cv2.cvtColor(frame,cv2.COLOR_BGR2RGB) \n",
    "        res = hands.process(frame)\n",
    "        frame_height,frame_width,_ = frame.shape\n",
    "        if  res.multi_hand_landmarks :\n",
    "            for mesh in res.multi_hand_landmarks :\n",
    "#                 print('hand_landmarks:',mesh)     #to print the coordinates of index finger\n",
    "#                 print(\n",
    "#                       f'Index finger tip coordinates: (',\n",
    "#                       f'{mesh.landmark[mp_hands.HandLandmark.INDEX_FINGER_TIP].x * frame_width}, '\n",
    "#                       f'{mesh.landmark[mp_hands.HandLandmark.INDEX_FINGER_TIP].y * frame_height})'\n",
    "#                      )\n",
    "                drawing_details.draw_landmarks(frame,mesh,mp_hands.HAND_CONNECTIONS)\n",
    "        frame =cv2.cvtColor(frame,cv2.COLOR_RGB2BGR)\n",
    "        cv2.imshow('webcam',frame)\n",
    "        if cv2.waitKey(1)==ord('q'):\n",
    "            break;\n",
    "cv2.destroyAllWindows()\n",
    "cap.release()"
   ]
  }
 ],
 "metadata": {
  "kernelspec": {
   "display_name": "Python 3.10.7 64-bit",
   "language": "python",
   "name": "python3"
  },
  "language_info": {
   "name": "python",
   "version": "3.10.7"
  },
  "orig_nbformat": 4,
  "vscode": {
   "interpreter": {
    "hash": "76d7c06053c3456e5600312cec90888656fc0ed30c03d8425b9dac6e4fc8e014"
   }
  }
 },
 "nbformat": 4,
 "nbformat_minor": 2
}
